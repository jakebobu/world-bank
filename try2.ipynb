{
 "cells": [
  {
   "cell_type": "code",
   "execution_count": 1,
   "metadata": {
    "collapsed": true
   },
   "outputs": [],
   "source": [
    "import pandas as pd\n",
    "import numpy as np\n",
    "wdi_df = pd.read_csv('/home/jake/world-bank/data_sheets/WDIData.csv')"
   ]
  },
  {
   "cell_type": "code",
   "execution_count": 2,
   "metadata": {},
   "outputs": [
    {
     "name": "stdout",
     "output_type": "stream",
     "text": [
      "5281.879194630872\n"
     ]
    }
   ],
   "source": [
    "short=wdi_df[wdi_df['Country Code'].isin(['JPN','BEN','POL','USA','BRA'])]\n",
    "print(7870*10/14.9)"
   ]
  },
  {
   "cell_type": "code",
   "execution_count": 3,
   "metadata": {},
   "outputs": [
    {
     "name": "stdout",
     "output_type": "stream",
     "text": [
      "<class 'pandas.core.frame.DataFrame'>\n",
      "Int64Index: 7870 entries, 105458 to 399795\n",
      "Data columns (total 63 columns):\n",
      "Country Name      7870 non-null object\n",
      "Country Code      7870 non-null object\n",
      "Indicator Name    7870 non-null object\n",
      "Indicator Code    7870 non-null object\n",
      "1960              1105 non-null float64\n",
      "1961              1212 non-null float64\n",
      "1962              1278 non-null float64\n",
      "1963              1289 non-null float64\n",
      "1964              1294 non-null float64\n",
      "1965              1332 non-null float64\n",
      "1966              1308 non-null float64\n",
      "1967              1336 non-null float64\n",
      "1968              1321 non-null float64\n",
      "1969              1353 non-null float64\n",
      "1970              2226 non-null float64\n",
      "1971              2368 non-null float64\n",
      "1972              2481 non-null float64\n",
      "1973              2460 non-null float64\n",
      "1974              2511 non-null float64\n",
      "1975              2619 non-null float64\n",
      "1976              2646 non-null float64\n",
      "1977              2685 non-null float64\n",
      "1978              2673 non-null float64\n",
      "1979              2706 non-null float64\n",
      "1980              2803 non-null float64\n",
      "1981              2754 non-null float64\n",
      "1982              2805 non-null float64\n",
      "1983              2767 non-null float64\n",
      "1984              2826 non-null float64\n",
      "1985              2848 non-null float64\n",
      "1986              2869 non-null float64\n",
      "1987              2873 non-null float64\n",
      "1988              2885 non-null float64\n",
      "1989              2912 non-null float64\n",
      "1990              3544 non-null float64\n",
      "1991              3649 non-null float64\n",
      "1992              3728 non-null float64\n",
      "1993              3697 non-null float64\n",
      "1994              3795 non-null float64\n",
      "1995              3942 non-null float64\n",
      "1996              4048 non-null float64\n",
      "1997              4055 non-null float64\n",
      "1998              4173 non-null float64\n",
      "1999              4219 non-null float64\n",
      "2000              4550 non-null float64\n",
      "2001              4539 non-null float64\n",
      "2002              4615 non-null float64\n",
      "2003              4579 non-null float64\n",
      "2004              4677 non-null float64\n",
      "2005              4849 non-null float64\n",
      "2006              4844 non-null float64\n",
      "2007              4870 non-null float64\n",
      "2008              4901 non-null float64\n",
      "2009              4973 non-null float64\n",
      "2010              5063 non-null float64\n",
      "2011              5049 non-null float64\n",
      "2012              5024 non-null float64\n",
      "2013              4969 non-null float64\n",
      "2014              5009 non-null float64\n",
      "2015              4381 non-null float64\n",
      "2016              3388 non-null float64\n",
      "2017              500 non-null float64\n",
      "Unnamed: 62       0 non-null float64\n",
      "dtypes: float64(59), object(4)\n",
      "memory usage: 3.8+ MB\n"
     ]
    }
   ],
   "source": [
    "short.info()"
   ]
  },
  {
   "cell_type": "code",
   "execution_count": 4,
   "metadata": {},
   "outputs": [
    {
     "name": "stderr",
     "output_type": "stream",
     "text": [
      "/home/jake/anaconda3/lib/python3.6/site-packages/ipykernel_launcher.py:1: SettingWithCopyWarning: \n",
      "A value is trying to be set on a copy of a slice from a DataFrame\n",
      "\n",
      "See the caveats in the documentation: http://pandas.pydata.org/pandas-docs/stable/indexing.html#indexing-view-versus-copy\n",
      "  \"\"\"Entry point for launching an IPython kernel.\n"
     ]
    }
   ],
   "source": [
    "short.drop(['Country Code', 'Indicator Code','2017','Unnamed: 62'], axis=1, inplace=True)\n",
    "short_reind=short.set_index(['Country Name', 'Indicator Name']).stack().unstack(1)"
   ]
  },
  {
   "cell_type": "code",
   "execution_count": 5,
   "metadata": {},
   "outputs": [
    {
     "data": {
      "text/plain": [
       "Indicator Name\n",
       "2005 PPP conversion factor, GDP (LCU per international $)                                                                                         5\n",
       "2005 PPP conversion factor, private consumption (LCU per international $)                                                                         5\n",
       "ARI treatment (% of children under 5 taken to a health provider)                                                                                  8\n",
       "Access to clean fuels and technologies for cooking  (% of population)                                                                            75\n",
       "Access to electricity (% of population)                                                                                                         125\n",
       "Access to electricity, rural (% of rural population)                                                                                            124\n",
       "Access to electricity, urban (% of urban population)                                                                                            119\n",
       "Account (% age 15+) [ts]                                                                                                                         10\n",
       "Account at a financial institution (% age 15+)                                                                                                   10\n",
       "Account at a financial institution, female (% age 15+)                                                                                           10\n",
       "Account at a financial institution, income, poorest 40% (% ages 15+)                                                                             10\n",
       "Account at a financial institution, income, richest 60% (% ages 15+)                                                                             10\n",
       "Account at a financial institution, male (% age 15+)                                                                                             10\n",
       "Account, female (% age 15+) [ts]                                                                                                                 10\n",
       "Account, income, poorest 40% (% ages 15+) [ts]                                                                                                   10\n",
       "Account, income, richest 60% (% ages 15+) [ts]                                                                                                   10\n",
       "Account, male (% age 15+) [ts]                                                                                                                   10\n",
       "Account, older adults (% ages 25+) [ts]                                                                                                          10\n",
       "Account, primary education or less (% ages 15+) [ts]                                                                                              4\n",
       "Account, secondary education or more (% ages 15+) [ts]                                                                                            4\n",
       "Account, young adults (% ages 15-24) [ts]                                                                                                        10\n",
       "Adequacy of social insurance programs (% of total welfare of beneficiary households)                                                             13\n",
       "Adequacy of social protection and labor programs (% of total welfare of beneficiary households)                                                  13\n",
       "Adequacy of social safety net programs (% of total welfare of beneficiary households)                                                            11\n",
       "Adequacy of unemployment benefits and ALMP (% of total welfare of beneficiary households)                                                         8\n",
       "Adjusted net enrollment rate, primary (% of primary school age children)                                                                         73\n",
       "Adjusted net enrollment rate, primary, female (% of primary school age children)                                                                 52\n",
       "Adjusted net enrollment rate, primary, male (% of primary school age children)                                                                   52\n",
       "Adjusted net national income (annual % growth)                                                                                                  203\n",
       "Adjusted net national income (constant 2010 US$)                                                                                                208\n",
       "                                                                                                                                               ... \n",
       "Urban land area where elevation is below 5 meters (sq. km)                                                                                       15\n",
       "Urban population                                                                                                                                285\n",
       "Urban population (% of total)                                                                                                                   285\n",
       "Urban population growth (annual %)                                                                                                              285\n",
       "Urban population living in areas where elevation is below 5 meters (% of total population)                                                       15\n",
       "Urban poverty gap at national poverty lines (%)                                                                                                   3\n",
       "Urban poverty headcount ratio at national poverty lines (% of urban population)                                                                   4\n",
       "Use of IMF credit (DOD, current US$)                                                                                                             94\n",
       "Use of insecticide-treated bed nets (% of under-5 population)                                                                                     4\n",
       "Value lost due to electrical outages (% of sales for affected firms)                                                                              5\n",
       "Vitamin A supplementation coverage rate (% of children ages 6-59 months)                                                                         17\n",
       "Vulnerable employment, female (% of female employment) (modeled ILO estimate)                                                                   130\n",
       "Vulnerable employment, male (% of male employment) (modeled ILO estimate)                                                                       130\n",
       "Vulnerable employment, total (% of total employment) (modeled ILO estimate)                                                                     130\n",
       "Wage and salaried workers, female (% of female employment)                                                                                      130\n",
       "Wage and salaried workers, male (% of male employment)                                                                                          130\n",
       "Wage and salaried workers, total (% of total employment)                                                                                        130\n",
       "Wanted fertility rate (births per woman)                                                                                                          7\n",
       "Water productivity, total (constant 2010 US$ GDP per cubic meter of total freshwater withdrawal)                                                 22\n",
       "Wholesale price index (2010 = 100)                                                                                                               66\n",
       "Women making their own informed decisions regarding sexual relations, contraceptive use and reproductive health care  (% of women age 15-49)      1\n",
       "Women participating in the three decisions (own health care, major household purchases, and visiting family) (% of women age 15-49)               3\n",
       "Women who believe a husband is justified in beating his wife (any of five reasons) (%)                                                            4\n",
       "Women who believe a husband is justified in beating his wife when she argues with him (%)                                                         3\n",
       "Women who believe a husband is justified in beating his wife when she burns the food (%)                                                          3\n",
       "Women who believe a husband is justified in beating his wife when she goes out without telling him (%)                                            3\n",
       "Women who believe a husband is justified in beating his wife when she neglects the children (%)                                                   3\n",
       "Women who believe a husband is justified in beating his wife when she refuses sex with him (%)                                                    3\n",
       "Women who were first married by age 18 (% of women ages 20-24)                                                                                    7\n",
       "Women's share of population ages 15+ living with HIV (%)                                                                                         54\n",
       "Length: 1559, dtype: int64"
      ]
     },
     "execution_count": 5,
     "metadata": {},
     "output_type": "execute_result"
    }
   ],
   "source": [
    "short_reind.count()"
   ]
  },
  {
   "cell_type": "code",
   "execution_count": 49,
   "metadata": {},
   "outputs": [
    {
     "name": "stdout",
     "output_type": "stream",
     "text": [
      "[285 285 285 ... 285 285 285]\n",
      "<class 'pandas.core.frame.DataFrame'>\n",
      "MultiIndex: 285 entries, (Benin, 1960) to (United States, 2016)\n",
      "Columns: 1559 entries, 2005 PPP conversion factor, GDP (LCU per international $) to Women's share of population ages 15+ living with HIV (%)\n",
      "dtypes: float64(1559)\n",
      "memory usage: 3.4+ MB\n"
     ]
    }
   ],
   "source": [
    "arr=[]\n",
    "for i in short_reind.columns:\n",
    "    n=short_reind[i].count\n",
    "    #print('{} has {} non null'.format(i,n))\n",
    "    arr.append(n)\n",
    "print(np.array(arr))\n",
    "short_reind.info()"
   ]
  },
  {
   "cell_type": "code",
   "execution_count": 33,
   "metadata": {
    "collapsed": true
   },
   "outputs": [],
   "source": [
    "for i in short_reind.columns:\n",
    "    n=short_reind[i].count()\n",
    "    if n>5000:\n",
    "        print('{} has {} non null'.format(i,n))\n",
    "    else:\n",
    "        short_reind.drop(i, axis=1,inplace=True)"
   ]
  },
  {
   "cell_type": "code",
   "execution_count": 28,
   "metadata": {},
   "outputs": [
    {
     "name": "stdout",
     "output_type": "stream",
     "text": [
      "<class 'pandas.core.frame.DataFrame'>\n",
      "MultiIndex: 285 entries, (Benin, 1960) to (United States, 2016)\n",
      "Empty DataFrame"
     ]
    }
   ],
   "source": [
    "short_reind.info()"
   ]
  },
  {
   "cell_type": "code",
   "execution_count": null,
   "metadata": {
    "collapsed": true
   },
   "outputs": [],
   "source": []
  }
 ],
 "metadata": {
  "kernelspec": {
   "display_name": "Python 3",
   "language": "python",
   "name": "python3"
  },
  "language_info": {
   "codemirror_mode": {
    "name": "ipython",
    "version": 3
   },
   "file_extension": ".py",
   "mimetype": "text/x-python",
   "name": "python",
   "nbconvert_exporter": "python",
   "pygments_lexer": "ipython3",
   "version": "3.6.4"
  }
 },
 "nbformat": 4,
 "nbformat_minor": 2
}
