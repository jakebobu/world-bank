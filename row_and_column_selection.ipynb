{
 "cells": [
  {
   "cell_type": "code",
   "execution_count": 42,
   "metadata": {
    "collapsed": true
   },
   "outputs": [],
   "source": [
    "import pandas as pd\n",
    "import matplotlib.pyplot as plt\n",
    "from sklearn import preprocessing\n",
    "import numpy as np\n",
    "plt.style.use('ggplot')\n",
    "%matplotlib inline"
   ]
  },
  {
   "cell_type": "code",
   "execution_count": 2,
   "metadata": {},
   "outputs": [
    {
     "data": {
      "text/plain": [
       "(10297, 409)"
      ]
     },
     "execution_count": 2,
     "metadata": {},
     "output_type": "execute_result"
    }
   ],
   "source": [
    "df = pd.read_csv('inner_joind_dropped.csv')\n",
    "df.shape"
   ]
  },
  {
   "cell_type": "code",
   "execution_count": 15,
   "metadata": {},
   "outputs": [
    {
     "data": {
      "text/plain": [
       "51"
      ]
     },
     "execution_count": 15,
     "metadata": {},
     "output_type": "execute_result"
    }
   ],
   "source": [
    "col_cnt = df.count()\n",
    "len(col_cnt[col_cnt>10296])"
   ]
  },
  {
   "cell_type": "code",
   "execution_count": 14,
   "metadata": {},
   "outputs": [
    {
     "data": {
      "text/plain": [
       "251"
      ]
     },
     "execution_count": 14,
     "metadata": {},
     "output_type": "execute_result"
    }
   ],
   "source": [
    "len(col_cnt[col_cnt>10296*.89])"
   ]
  },
  {
   "cell_type": "code",
   "execution_count": 5,
   "metadata": {
    "collapsed": true
   },
   "outputs": [],
   "source": [
    "row_cnt=df.count(axis=1)"
   ]
  },
  {
   "cell_type": "code",
   "execution_count": 12,
   "metadata": {},
   "outputs": [
    {
     "data": {
      "text/plain": [
       "1398"
      ]
     },
     "execution_count": 12,
     "metadata": {},
     "output_type": "execute_result"
    }
   ],
   "source": [
    "len(row_cnt[row_cnt>408])"
   ]
  },
  {
   "cell_type": "code",
   "execution_count": 13,
   "metadata": {},
   "outputs": [
    {
     "data": {
      "text/plain": [
       "7568"
      ]
     },
     "execution_count": 13,
     "metadata": {},
     "output_type": "execute_result"
    }
   ],
   "source": [
    "len(row_cnt[row_cnt>408*0.89])"
   ]
  },
  {
   "cell_type": "code",
   "execution_count": 8,
   "metadata": {},
   "outputs": [
    {
     "data": {
      "text/plain": [
       "<matplotlib.axes._subplots.AxesSubplot at 0x7fb525ecb8d0>"
      ]
     },
     "execution_count": 8,
     "metadata": {},
     "output_type": "execute_result"
    },
    {
     "data": {
      "image/png": "[encoded data removed]",
      "text/plain": [
       "<matplotlib.figure.Figure at 0x7fb525ecb7f0>"
      ]
     },
     "metadata": {},
     "output_type": "display_data"
    }
   ],
   "source": [
    "col_cnt.hist()"
   ]
  },
  {
   "cell_type": "code",
   "execution_count": 9,
   "metadata": {},
   "outputs": [
    {
     "data": {
      "text/plain": [
       "<matplotlib.axes._subplots.AxesSubplot at 0x7fb5265cb780>"
      ]
     },
     "execution_count": 9,
     "metadata": {},
     "output_type": "execute_result"
    },
    {
     "data": {
      "image/png": "[encoded data removed]",
      "text/plain": [
       "<matplotlib.figure.Figure at 0x7fb526668588>"
      ]
     },
     "metadata": {},
     "output_type": "display_data"
    }
   ],
   "source": [
    "row_cnt.hist()"
   ]
  },
  {
   "cell_type": "code",
   "execution_count": 16,
   "metadata": {},
   "outputs": [
    {
     "data": {
      "text/plain": [
       "178"
      ]
     },
     "execution_count": 16,
     "metadata": {},
     "output_type": "execute_result"
    }
   ],
   "source": [
    "len(row_cnt[row_cnt<275])"
   ]
  },
  {
   "cell_type": "code",
   "execution_count": 69,
   "metadata": {},
   "outputs": [
    {
     "name": "stdout",
     "output_type": "stream",
     "text": [
      "41\n"
     ]
    },
    {
     "data": {
      "text/plain": [
       "array(['Afghanistan', 'Arab World', 'Bangladesh', 'Channel Islands',\n",
       "       'Curacao', 'East Asia & Pacific',\n",
       "       'East Asia & Pacific (excluding high income)', 'Eritrea',\n",
       "       'Euro area', 'Europe & Central Asia',\n",
       "       'Europe & Central Asia (excluding high income)', 'European Union',\n",
       "       'Fiji', 'French Polynesia',\n",
       "       'Heavily indebted poor countries (HIPC)', 'High income',\n",
       "       'Latin America & Caribbean',\n",
       "       'Latin America & Caribbean (excluding high income)',\n",
       "       'Least developed countries: UN classification', 'Liberia',\n",
       "       'Low & middle income', 'Low income', 'Lower middle income',\n",
       "       'Middle East & North Africa',\n",
       "       'Middle East & North Africa (excluding high income)',\n",
       "       'Middle income', 'New Caledonia', 'North America', 'OECD members',\n",
       "       'Serbia', 'Sierra Leone', 'South Asia', 'South Sudan',\n",
       "       'Sub-Saharan Africa', 'Sub-Saharan Africa (excluding high income)',\n",
       "       'Tajikistan', 'Ukraine', 'Upper middle income',\n",
       "       'Virgin Islands (U.S.)', 'West Bank and Gaza', 'World'],\n",
       "      dtype=object)"
      ]
     },
     "execution_count": 69,
     "metadata": {},
     "output_type": "execute_result"
    }
   ],
   "source": [
    "print(len(df[row_cnt<275]['Country Name'].unique()))\n",
    "df[row_cnt<275]['Country Name'].unique()"
   ]
  },
  {
   "cell_type": "code",
   "execution_count": 70,
   "metadata": {},
   "outputs": [
    {
     "name": "stdout",
     "output_type": "stream",
     "text": [
      "219\n"
     ]
    }
   ],
   "source": [
    "print(len(df['Country Name'].unique()))\n"
   ]
  },
  {
   "cell_type": "code",
   "execution_count": 37,
   "metadata": {
    "collapsed": true
   },
   "outputs": [],
   "source": [
    "drop_list = ['Afghanistan', 'Arab World', 'Bangladesh', 'Channel Islands',\n",
    "       'Curacao', 'East Asia & Pacific',\n",
    "       'East Asia & Pacific (excluding high income)', 'Eritrea',\n",
    "       'Euro area', 'Europe & Central Asia',\n",
    "       'Europe & Central Asia (excluding high income)', 'European Union',\n",
    "       'Fiji', 'French Polynesia',\n",
    "       'Heavily indebted poor countries (HIPC)', 'High income',\n",
    "       'Latin America & Caribbean',\n",
    "       'Latin America & Caribbean (excluding high income)',\n",
    "       'Least developed countries: UN classification', 'Liberia',\n",
    "       'Low & middle income', 'Low income', 'Lower middle income',\n",
    "       'Middle East & North Africa',\n",
    "       'Middle East & North Africa (excluding high income)',\n",
    "       'Middle income', 'New Caledonia', 'North America', 'OECD members',\n",
    "       'Serbia', 'Sierra Leone', 'South Asia', 'South Sudan',\n",
    "       'Sub-Saharan Africa', 'Sub-Saharan Africa (excluding high income)',\n",
    "       'Tajikistan', 'Ukraine', 'Upper middle income',\n",
    "       'Virgin Islands (U.S.)', 'West Bank and Gaza', 'World']"
   ]
  },
  {
   "cell_type": "code",
   "execution_count": 38,
   "metadata": {},
   "outputs": [],
   "source": [
    "df_droped = df[~df['Country Name'].isin(set(drop_list))]"
   ]
  },
  {
   "cell_type": "code",
   "execution_count": 39,
   "metadata": {},
   "outputs": [
    {
     "name": "stdout",
     "output_type": "stream",
     "text": [
      "(8366, 409)\n"
     ]
    },
    {
     "data": {
      "text/plain": [
       "<matplotlib.axes._subplots.AxesSubplot at 0x7fb51534e470>"
      ]
     },
     "execution_count": 39,
     "metadata": {},
     "output_type": "execute_result"
    },
    {
     "data": {
      "image/png": "[encoded data removed]",
      "text/plain": [
       "<matplotlib.figure.Figure at 0x7fb5152a8860>"
      ]
     },
     "metadata": {},
     "output_type": "display_data"
    }
   ],
   "source": [
    "print(df_droped.shape)\n",
    "col_cnt = df_droped.count()\n",
    "len(col_cnt[col_cnt>8508*0.9])\n",
    "col_cnt.hist()"
   ]
  },
  {
   "cell_type": "code",
   "execution_count": 40,
   "metadata": {},
   "outputs": [
    {
     "data": {
      "text/plain": [
       "<matplotlib.axes._subplots.AxesSubplot at 0x7fb5152ffd30>"
      ]
     },
     "execution_count": 40,
     "metadata": {},
     "output_type": "execute_result"
    },
    {
     "data": {
      "image/png": "[encoded data removed]",
      "text/plain": [
       "<matplotlib.figure.Figure at 0x7fb515311358>"
      ]
     },
     "metadata": {},
     "output_type": "display_data"
    }
   ],
   "source": [
    "row_cnt=df_droped.count(axis=1)\n",
    "row_cnt.hist()"
   ]
  },
  {
   "cell_type": "code",
   "execution_count": 41,
   "metadata": {},
   "outputs": [
    {
     "data": {
      "text/plain": [
       "array(['Albania', 'Algeria', 'Angola', 'Antigua and Barbuda', 'Argentina',\n",
       "       'Armenia', 'Aruba', 'Australia', 'Austria', 'Azerbaijan',\n",
       "       'Bahamas, The', 'Bahrain', 'Barbados', 'Belarus', 'Belgium',\n",
       "       'Belize', 'Benin', 'Bhutan', 'Bolivia', 'Bosnia and Herzegovina',\n",
       "       'Botswana', 'Brazil', 'Brunei Darussalam', 'Bulgaria',\n",
       "       'Burkina Faso', 'Burundi', 'Cabo Verde', 'Cambodia', 'Cameroon',\n",
       "       'Canada', 'Central African Republic', 'Chad', 'Chile', 'China',\n",
       "       'Colombia', 'Comoros', 'Congo, Dem. Rep.', 'Congo, Rep.',\n",
       "       'Costa Rica', \"Cote d'Ivoire\", 'Croatia', 'Cuba', 'Cyprus',\n",
       "       'Czech Republic', 'Denmark', 'Djibouti', 'Dominican Republic',\n",
       "       'Ecuador', 'Egypt, Arab Rep.', 'El Salvador', 'Equatorial Guinea',\n",
       "       'Estonia', 'Ethiopia', 'Finland', 'France', 'Gabon', 'Gambia, The',\n",
       "       'Georgia', 'Germany', 'Ghana', 'Greece', 'Grenada', 'Guam',\n",
       "       'Guatemala', 'Guinea', 'Guinea-Bissau', 'Guyana', 'Haiti',\n",
       "       'Honduras', 'Hong Kong SAR, China', 'Hungary', 'Iceland', 'India',\n",
       "       'Indonesia', 'Iran, Islamic Rep.', 'Iraq', 'Ireland', 'Israel',\n",
       "       'Italy', 'Jamaica', 'Japan', 'Jordan', 'Kazakhstan', 'Kenya',\n",
       "       'Kiribati', 'Korea, Dem. People’s Rep.', 'Korea, Rep.', 'Kuwait',\n",
       "       'Kyrgyz Republic', 'Lao PDR', 'Latvia', 'Lebanon', 'Lesotho',\n",
       "       'Libya', 'Lithuania', 'Luxembourg', 'Macao SAR, China',\n",
       "       'Macedonia, FYR', 'Madagascar', 'Malawi', 'Malaysia', 'Maldives',\n",
       "       'Mali', 'Malta', 'Mauritania', 'Mauritius', 'Mexico',\n",
       "       'Micronesia, Fed. Sts.', 'Moldova', 'Mongolia', 'Montenegro',\n",
       "       'Morocco', 'Mozambique', 'Myanmar', 'Namibia', 'Nepal',\n",
       "       'Netherlands', 'New Zealand', 'Nicaragua', 'Niger', 'Nigeria',\n",
       "       'Norway', 'Oman', 'Pakistan', 'Panama', 'Papua New Guinea',\n",
       "       'Paraguay', 'Peru', 'Philippines', 'Poland', 'Portugal',\n",
       "       'Puerto Rico', 'Qatar', 'Romania', 'Russian Federation', 'Rwanda',\n",
       "       'Samoa', 'Sao Tome and Principe', 'Saudi Arabia', 'Senegal',\n",
       "       'Seychelles', 'Singapore', 'Slovak Republic', 'Slovenia',\n",
       "       'Solomon Islands', 'Somalia', 'South Africa', 'Spain', 'Sri Lanka',\n",
       "       'St. Lucia', 'St. Vincent and the Grenadines', 'Sudan', 'Suriname',\n",
       "       'Swaziland', 'Sweden', 'Switzerland', 'Syrian Arab Republic',\n",
       "       'Tanzania', 'Thailand', 'Timor-Leste', 'Togo', 'Tonga',\n",
       "       'Trinidad and Tobago', 'Tunisia', 'Turkey', 'Turkmenistan',\n",
       "       'Uganda', 'United Arab Emirates', 'United Kingdom',\n",
       "       'United States', 'Uruguay', 'Uzbekistan', 'Vanuatu',\n",
       "       'Venezuela, RB', 'Vietnam', 'Yemen, Rep.', 'Zambia', 'Zimbabwe'],\n",
       "      dtype=object)"
      ]
     },
     "execution_count": 41,
     "metadata": {},
     "output_type": "execute_result"
    }
   ],
   "source": [
    "df_droped['Country Name'].unique()"
   ]
  },
  {
   "cell_type": "code",
   "execution_count": 52,
   "metadata": {},
   "outputs": [
    {
     "ename": "ValueError",
     "evalue": "Input contains NaN, infinity or a value too large for dtype('float64').",
     "output_type": "error",
     "traceback": [
      "\u001b[0;31m---------------------------------------------------------------------------\u001b[0m",
      "\u001b[0;31mValueError\u001b[0m                                Traceback (most recent call last)",
      "\u001b[0;32m<ipython-input-52-620d94674167>\u001b[0m in \u001b[0;36m<module>\u001b[0;34m()\u001b[0m\n\u001b[1;32m      2\u001b[0m \u001b[0;31m#df_droped.drop(['Unnamed: 0','Unnamed: 0.1','Country Name','Unnamed: 1'], axis=1, inplace=True)\u001b[0m\u001b[0;34m\u001b[0m\u001b[0;34m\u001b[0m\u001b[0m\n\u001b[1;32m      3\u001b[0m \u001b[0marr\u001b[0m\u001b[0;34m=\u001b[0m\u001b[0mdf_droped\u001b[0m\u001b[0;34m.\u001b[0m\u001b[0mvalues\u001b[0m\u001b[0;34m\u001b[0m\u001b[0m\n\u001b[0;32m----> 4\u001b[0;31m \u001b[0mscaled_arr\u001b[0m \u001b[0;34m=\u001b[0m \u001b[0mpreprocessing\u001b[0m\u001b[0;34m.\u001b[0m\u001b[0mMaxAbsScaler\u001b[0m\u001b[0;34m(\u001b[0m\u001b[0;34m)\u001b[0m\u001b[0;34m.\u001b[0m\u001b[0mfit_transform\u001b[0m\u001b[0;34m(\u001b[0m\u001b[0marr\u001b[0m\u001b[0;34m)\u001b[0m\u001b[0;34m\u001b[0m\u001b[0m\n\u001b[0m\u001b[1;32m      5\u001b[0m \u001b[0mcols\u001b[0m \u001b[0;34m=\u001b[0m \u001b[0mdf_droped\u001b[0m\u001b[0;34m.\u001b[0m\u001b[0mcolumns\u001b[0m\u001b[0;34m\u001b[0m\u001b[0m\n\u001b[1;32m      6\u001b[0m \u001b[0mdf_scaled\u001b[0m \u001b[0;34m=\u001b[0m \u001b[0mpd\u001b[0m\u001b[0;34m.\u001b[0m\u001b[0mDataFrame\u001b[0m\u001b[0;34m(\u001b[0m\u001b[0mscaled_arr\u001b[0m\u001b[0;34m,\u001b[0m \u001b[0mcolumns\u001b[0m\u001b[0;34m=\u001b[0m\u001b[0mcols\u001b[0m\u001b[0;34m)\u001b[0m\u001b[0;34m\u001b[0m\u001b[0m\n",
      "\u001b[0;32m~/anaconda3/lib/python3.6/site-packages/sklearn/base.py\u001b[0m in \u001b[0;36mfit_transform\u001b[0;34m(self, X, y, **fit_params)\u001b[0m\n\u001b[1;32m    515\u001b[0m         \u001b[0;32mif\u001b[0m \u001b[0my\u001b[0m \u001b[0;32mis\u001b[0m \u001b[0;32mNone\u001b[0m\u001b[0;34m:\u001b[0m\u001b[0;34m\u001b[0m\u001b[0m\n\u001b[1;32m    516\u001b[0m             \u001b[0;31m# fit method of arity 1 (unsupervised transformation)\u001b[0m\u001b[0;34m\u001b[0m\u001b[0;34m\u001b[0m\u001b[0m\n\u001b[0;32m--> 517\u001b[0;31m             \u001b[0;32mreturn\u001b[0m \u001b[0mself\u001b[0m\u001b[0;34m.\u001b[0m\u001b[0mfit\u001b[0m\u001b[0;34m(\u001b[0m\u001b[0mX\u001b[0m\u001b[0;34m,\u001b[0m \u001b[0;34m**\u001b[0m\u001b[0mfit_params\u001b[0m\u001b[0;34m)\u001b[0m\u001b[0;34m.\u001b[0m\u001b[0mtransform\u001b[0m\u001b[0;34m(\u001b[0m\u001b[0mX\u001b[0m\u001b[0;34m)\u001b[0m\u001b[0;34m\u001b[0m\u001b[0m\n\u001b[0m\u001b[1;32m    518\u001b[0m         \u001b[0;32melse\u001b[0m\u001b[0;34m:\u001b[0m\u001b[0;34m\u001b[0m\u001b[0m\n\u001b[1;32m    519\u001b[0m             \u001b[0;31m# fit method of arity 2 (supervised transformation)\u001b[0m\u001b[0;34m\u001b[0m\u001b[0;34m\u001b[0m\u001b[0m\n",
      "\u001b[0;32m~/anaconda3/lib/python3.6/site-packages/sklearn/preprocessing/data.py\u001b[0m in \u001b[0;36mfit\u001b[0;34m(self, X, y)\u001b[0m\n\u001b[1;32m    808\u001b[0m         \u001b[0;31m# Reset internal state before fitting\u001b[0m\u001b[0;34m\u001b[0m\u001b[0;34m\u001b[0m\u001b[0m\n\u001b[1;32m    809\u001b[0m         \u001b[0mself\u001b[0m\u001b[0;34m.\u001b[0m\u001b[0m_reset\u001b[0m\u001b[0;34m(\u001b[0m\u001b[0;34m)\u001b[0m\u001b[0;34m\u001b[0m\u001b[0m\n\u001b[0;32m--> 810\u001b[0;31m         \u001b[0;32mreturn\u001b[0m \u001b[0mself\u001b[0m\u001b[0;34m.\u001b[0m\u001b[0mpartial_fit\u001b[0m\u001b[0;34m(\u001b[0m\u001b[0mX\u001b[0m\u001b[0;34m,\u001b[0m \u001b[0my\u001b[0m\u001b[0;34m)\u001b[0m\u001b[0;34m\u001b[0m\u001b[0m\n\u001b[0m\u001b[1;32m    811\u001b[0m \u001b[0;34m\u001b[0m\u001b[0m\n\u001b[1;32m    812\u001b[0m     \u001b[0;32mdef\u001b[0m \u001b[0mpartial_fit\u001b[0m\u001b[0;34m(\u001b[0m\u001b[0mself\u001b[0m\u001b[0;34m,\u001b[0m \u001b[0mX\u001b[0m\u001b[0;34m,\u001b[0m \u001b[0my\u001b[0m\u001b[0;34m=\u001b[0m\u001b[0;32mNone\u001b[0m\u001b[0;34m)\u001b[0m\u001b[0;34m:\u001b[0m\u001b[0;34m\u001b[0m\u001b[0m\n",
      "\u001b[0;32m~/anaconda3/lib/python3.6/site-packages/sklearn/preprocessing/data.py\u001b[0m in \u001b[0;36mpartial_fit\u001b[0;34m(self, X, y)\u001b[0m\n\u001b[1;32m    825\u001b[0m         \"\"\"\n\u001b[1;32m    826\u001b[0m         X = check_array(X, accept_sparse=('csr', 'csc'), copy=self.copy,\n\u001b[0;32m--> 827\u001b[0;31m                         estimator=self, dtype=FLOAT_DTYPES)\n\u001b[0m\u001b[1;32m    828\u001b[0m \u001b[0;34m\u001b[0m\u001b[0m\n\u001b[1;32m    829\u001b[0m         \u001b[0;32mif\u001b[0m \u001b[0msparse\u001b[0m\u001b[0;34m.\u001b[0m\u001b[0missparse\u001b[0m\u001b[0;34m(\u001b[0m\u001b[0mX\u001b[0m\u001b[0;34m)\u001b[0m\u001b[0;34m:\u001b[0m\u001b[0;34m\u001b[0m\u001b[0m\n",
      "\u001b[0;32m~/anaconda3/lib/python3.6/site-packages/sklearn/utils/validation.py\u001b[0m in \u001b[0;36mcheck_array\u001b[0;34m(array, accept_sparse, dtype, order, copy, force_all_finite, ensure_2d, allow_nd, ensure_min_samples, ensure_min_features, warn_on_dtype, estimator)\u001b[0m\n\u001b[1;32m    451\u001b[0m                              % (array.ndim, estimator_name))\n\u001b[1;32m    452\u001b[0m         \u001b[0;32mif\u001b[0m \u001b[0mforce_all_finite\u001b[0m\u001b[0;34m:\u001b[0m\u001b[0;34m\u001b[0m\u001b[0m\n\u001b[0;32m--> 453\u001b[0;31m             \u001b[0m_assert_all_finite\u001b[0m\u001b[0;34m(\u001b[0m\u001b[0marray\u001b[0m\u001b[0;34m)\u001b[0m\u001b[0;34m\u001b[0m\u001b[0m\n\u001b[0m\u001b[1;32m    454\u001b[0m \u001b[0;34m\u001b[0m\u001b[0m\n\u001b[1;32m    455\u001b[0m     \u001b[0mshape_repr\u001b[0m \u001b[0;34m=\u001b[0m \u001b[0m_shape_repr\u001b[0m\u001b[0;34m(\u001b[0m\u001b[0marray\u001b[0m\u001b[0;34m.\u001b[0m\u001b[0mshape\u001b[0m\u001b[0;34m)\u001b[0m\u001b[0;34m\u001b[0m\u001b[0m\n",
      "\u001b[0;32m~/anaconda3/lib/python3.6/site-packages/sklearn/utils/validation.py\u001b[0m in \u001b[0;36m_assert_all_finite\u001b[0;34m(X)\u001b[0m\n\u001b[1;32m     42\u001b[0m             and not np.isfinite(X).all()):\n\u001b[1;32m     43\u001b[0m         raise ValueError(\"Input contains NaN, infinity\"\n\u001b[0;32m---> 44\u001b[0;31m                          \" or a value too large for %r.\" % X.dtype)\n\u001b[0m\u001b[1;32m     45\u001b[0m \u001b[0;34m\u001b[0m\u001b[0m\n\u001b[1;32m     46\u001b[0m \u001b[0;34m\u001b[0m\u001b[0m\n",
      "\u001b[0;31mValueError\u001b[0m: Input contains NaN, infinity or a value too large for dtype('float64')."
     ]
    }
   ],
   "source": [
    "#df_ind = df_droped[['Country Name','Unnamed: 1']]\n",
    "#df_droped.drop(['Unnamed: 0','Unnamed: 0.1','Country Name','Unnamed: 1'], axis=1, inplace=True)\n",
    "arr=df_droped.values\n",
    "scaled_arr = preprocessing.MaxAbsScaler().fit_transform(arr)\n",
    "cols = df_droped.columns\n",
    "df_scaled = pd.DataFrame(scaled_arr, columns=cols)"
   ]
  },
  {
   "cell_type": "code",
   "execution_count": 47,
   "metadata": {},
   "outputs": [
    {
     "data": {
      "text/html": [
       "<div>\n",
       "<style>\n",
       "    .dataframe thead tr:only-child th {\n",
       "        text-align: right;\n",
       "    }\n",
       "\n",
       "    .dataframe thead th {\n",
       "        text-align: left;\n",
       "    }\n",
       "\n",
       "    .dataframe tbody tr th {\n",
       "        vertical-align: top;\n",
       "    }\n",
       "</style>\n",
       "<table border=\"1\" class=\"dataframe\">\n",
       "  <thead>\n",
       "    <tr style=\"text-align: right;\">\n",
       "      <th></th>\n",
       "      <th>Unnamed: 0</th>\n",
       "      <th>Unnamed: 0.1</th>\n",
       "      <th>Country Name</th>\n",
       "      <th>Unnamed: 1</th>\n",
       "      <th>Adolescent fertility rate (births per 1,000 women ages 15-19)_x</th>\n",
       "      <th>Age dependency ratio (% of working-age population)_x</th>\n",
       "      <th>Age dependency ratio, old</th>\n",
       "      <th>Age dependency ratio, young</th>\n",
       "      <th>Age population, age 0, female, interpolated</th>\n",
       "      <th>Age population, age 0, male, interpolated</th>\n",
       "      <th>...</th>\n",
       "      <th>Population, female (% of total)</th>\n",
       "      <th>Population, male</th>\n",
       "      <th>Population, male (% of total)</th>\n",
       "      <th>Population, total</th>\n",
       "      <th>School life expectancy, primary, both sexes (years)</th>\n",
       "      <th>Theoretical duration of lower secondary education (years)</th>\n",
       "      <th>Theoretical duration of pre-primary education (years)</th>\n",
       "      <th>Theoretical duration of primary education (years)</th>\n",
       "      <th>Theoretical duration of secondary education (years)</th>\n",
       "      <th>Theoretical duration of upper secondary education (years)</th>\n",
       "    </tr>\n",
       "  </thead>\n",
       "  <tbody>\n",
       "    <tr>\n",
       "      <th>48</th>\n",
       "      <td>48</td>\n",
       "      <td>48</td>\n",
       "      <td>Albania</td>\n",
       "      <td>1970</td>\n",
       "      <td>35.7928</td>\n",
       "      <td>85.539909</td>\n",
       "      <td>9.635485</td>\n",
       "      <td>75.904424</td>\n",
       "      <td>29656.0</td>\n",
       "      <td>31431.0</td>\n",
       "      <td>...</td>\n",
       "      <td>48.511554</td>\n",
       "      <td>1099525.0</td>\n",
       "      <td>51.488446</td>\n",
       "      <td>2135479.0</td>\n",
       "      <td>NaN</td>\n",
       "      <td>4.0</td>\n",
       "      <td>3.0</td>\n",
       "      <td>4.0</td>\n",
       "      <td>8.0</td>\n",
       "      <td>4.0</td>\n",
       "    </tr>\n",
       "    <tr>\n",
       "      <th>49</th>\n",
       "      <td>49</td>\n",
       "      <td>49</td>\n",
       "      <td>Albania</td>\n",
       "      <td>1971</td>\n",
       "      <td>32.6304</td>\n",
       "      <td>84.238462</td>\n",
       "      <td>9.546354</td>\n",
       "      <td>74.692108</td>\n",
       "      <td>30088.0</td>\n",
       "      <td>31904.0</td>\n",
       "      <td>...</td>\n",
       "      <td>48.518853</td>\n",
       "      <td>1126332.0</td>\n",
       "      <td>51.481147</td>\n",
       "      <td>2187853.0</td>\n",
       "      <td>NaN</td>\n",
       "      <td>4.0</td>\n",
       "      <td>3.0</td>\n",
       "      <td>4.0</td>\n",
       "      <td>8.0</td>\n",
       "      <td>4.0</td>\n",
       "    </tr>\n",
       "    <tr>\n",
       "      <th>50</th>\n",
       "      <td>50</td>\n",
       "      <td>50</td>\n",
       "      <td>Albania</td>\n",
       "      <td>1972</td>\n",
       "      <td>29.4680</td>\n",
       "      <td>83.005810</td>\n",
       "      <td>9.476444</td>\n",
       "      <td>73.529366</td>\n",
       "      <td>30856.0</td>\n",
       "      <td>32716.0</td>\n",
       "      <td>...</td>\n",
       "      <td>48.529161</td>\n",
       "      <td>1154556.0</td>\n",
       "      <td>51.470839</td>\n",
       "      <td>2243126.0</td>\n",
       "      <td>NaN</td>\n",
       "      <td>4.0</td>\n",
       "      <td>3.0</td>\n",
       "      <td>4.0</td>\n",
       "      <td>8.0</td>\n",
       "      <td>4.0</td>\n",
       "    </tr>\n",
       "    <tr>\n",
       "      <th>51</th>\n",
       "      <td>51</td>\n",
       "      <td>51</td>\n",
       "      <td>Albania</td>\n",
       "      <td>1973</td>\n",
       "      <td>28.6554</td>\n",
       "      <td>81.723609</td>\n",
       "      <td>9.416309</td>\n",
       "      <td>72.307300</td>\n",
       "      <td>31784.0</td>\n",
       "      <td>33692.0</td>\n",
       "      <td>...</td>\n",
       "      <td>48.540956</td>\n",
       "      <td>1181887.0</td>\n",
       "      <td>51.459044</td>\n",
       "      <td>2296752.0</td>\n",
       "      <td>NaN</td>\n",
       "      <td>4.0</td>\n",
       "      <td>3.0</td>\n",
       "      <td>4.0</td>\n",
       "      <td>8.0</td>\n",
       "      <td>4.0</td>\n",
       "    </tr>\n",
       "    <tr>\n",
       "      <th>52</th>\n",
       "      <td>52</td>\n",
       "      <td>52</td>\n",
       "      <td>Albania</td>\n",
       "      <td>1974</td>\n",
       "      <td>27.8428</td>\n",
       "      <td>80.235628</td>\n",
       "      <td>9.351285</td>\n",
       "      <td>70.884343</td>\n",
       "      <td>32610.0</td>\n",
       "      <td>34577.0</td>\n",
       "      <td>...</td>\n",
       "      <td>48.551223</td>\n",
       "      <td>1209110.0</td>\n",
       "      <td>51.448777</td>\n",
       "      <td>2350124.0</td>\n",
       "      <td>NaN</td>\n",
       "      <td>4.0</td>\n",
       "      <td>3.0</td>\n",
       "      <td>4.0</td>\n",
       "      <td>8.0</td>\n",
       "      <td>4.0</td>\n",
       "    </tr>\n",
       "  </tbody>\n",
       "</table>\n",
       "<p>5 rows × 409 columns</p>\n",
       "</div>"
      ],
      "text/plain": [
       "    Unnamed: 0  Unnamed: 0.1 Country Name  Unnamed: 1  \\\n",
       "48          48            48      Albania        1970   \n",
       "49          49            49      Albania        1971   \n",
       "50          50            50      Albania        1972   \n",
       "51          51            51      Albania        1973   \n",
       "52          52            52      Albania        1974   \n",
       "\n",
       "    Adolescent fertility rate (births per 1,000 women ages 15-19)_x  \\\n",
       "48                                            35.7928                 \n",
       "49                                            32.6304                 \n",
       "50                                            29.4680                 \n",
       "51                                            28.6554                 \n",
       "52                                            27.8428                 \n",
       "\n",
       "    Age dependency ratio (% of working-age population)_x  \\\n",
       "48                                          85.539909      \n",
       "49                                          84.238462      \n",
       "50                                          83.005810      \n",
       "51                                          81.723609      \n",
       "52                                          80.235628      \n",
       "\n",
       "    Age dependency ratio, old  Age dependency ratio, young  \\\n",
       "48                   9.635485                    75.904424   \n",
       "49                   9.546354                    74.692108   \n",
       "50                   9.476444                    73.529366   \n",
       "51                   9.416309                    72.307300   \n",
       "52                   9.351285                    70.884343   \n",
       "\n",
       "    Age population, age 0, female, interpolated  \\\n",
       "48                                      29656.0   \n",
       "49                                      30088.0   \n",
       "50                                      30856.0   \n",
       "51                                      31784.0   \n",
       "52                                      32610.0   \n",
       "\n",
       "    Age population, age 0, male, interpolated  \\\n",
       "48                                    31431.0   \n",
       "49                                    31904.0   \n",
       "50                                    32716.0   \n",
       "51                                    33692.0   \n",
       "52                                    34577.0   \n",
       "\n",
       "                              ...                              \\\n",
       "48                            ...                               \n",
       "49                            ...                               \n",
       "50                            ...                               \n",
       "51                            ...                               \n",
       "52                            ...                               \n",
       "\n",
       "    Population, female (% of total)  Population, male  \\\n",
       "48                        48.511554         1099525.0   \n",
       "49                        48.518853         1126332.0   \n",
       "50                        48.529161         1154556.0   \n",
       "51                        48.540956         1181887.0   \n",
       "52                        48.551223         1209110.0   \n",
       "\n",
       "    Population, male (% of total)  Population, total  \\\n",
       "48                      51.488446          2135479.0   \n",
       "49                      51.481147          2187853.0   \n",
       "50                      51.470839          2243126.0   \n",
       "51                      51.459044          2296752.0   \n",
       "52                      51.448777          2350124.0   \n",
       "\n",
       "    School life expectancy, primary, both sexes (years)  \\\n",
       "48                                                NaN     \n",
       "49                                                NaN     \n",
       "50                                                NaN     \n",
       "51                                                NaN     \n",
       "52                                                NaN     \n",
       "\n",
       "    Theoretical duration of lower secondary education (years)  \\\n",
       "48                                                4.0           \n",
       "49                                                4.0           \n",
       "50                                                4.0           \n",
       "51                                                4.0           \n",
       "52                                                4.0           \n",
       "\n",
       "    Theoretical duration of pre-primary education (years)  \\\n",
       "48                                                3.0       \n",
       "49                                                3.0       \n",
       "50                                                3.0       \n",
       "51                                                3.0       \n",
       "52                                                3.0       \n",
       "\n",
       "    Theoretical duration of primary education (years)  \\\n",
       "48                                                4.0   \n",
       "49                                                4.0   \n",
       "50                                                4.0   \n",
       "51                                                4.0   \n",
       "52                                                4.0   \n",
       "\n",
       "    Theoretical duration of secondary education (years)  \\\n",
       "48                                                8.0     \n",
       "49                                                8.0     \n",
       "50                                                8.0     \n",
       "51                                                8.0     \n",
       "52                                                8.0     \n",
       "\n",
       "    Theoretical duration of upper secondary education (years)  \n",
       "48                                                4.0          \n",
       "49                                                4.0          \n",
       "50                                                4.0          \n",
       "51                                                4.0          \n",
       "52                                                4.0          \n",
       "\n",
       "[5 rows x 409 columns]"
      ]
     },
     "execution_count": 47,
     "metadata": {},
     "output_type": "execute_result"
    }
   ],
   "source": [
    "pandas ewna\n",
    "for col in df_droped.columns:\n",
    "    df[col].fillna(df[\"amount\"].mean(), inplace=True)\n"
   ]
  },
  {
   "cell_type": "code",
   "execution_count": 55,
   "metadata": {},
   "outputs": [
    {
     "name": "stdout",
     "output_type": "stream",
     "text": [
      "Imputing row 1/8366 with 72 missing, elapsed time: 236.386\n",
      "Imputing row 101/8366 with 63 missing, elapsed time: 236.518\n",
      "Imputing row 201/8366 with 0 missing, elapsed time: 236.726\n",
      "Imputing row 301/8366 with 72 missing, elapsed time: 237.097\n",
      "Imputing row 401/8366 with 6 missing, elapsed time: 237.271\n",
      "Imputing row 501/8366 with 13 missing, elapsed time: 237.514\n",
      "Imputing row 601/8366 with 2 missing, elapsed time: 237.673\n",
      "Imputing row 701/8366 with 10 missing, elapsed time: 238.023\n",
      "Imputing row 801/8366 with 54 missing, elapsed time: 238.128\n",
      "Imputing row 901/8366 with 97 missing, elapsed time: 238.328\n",
      "Imputing row 1001/8366 with 35 missing, elapsed time: 238.627\n",
      "Imputing row 1101/8366 with 6 missing, elapsed time: 238.803\n",
      "Imputing row 1201/8366 with 4 missing, elapsed time: 238.863\n",
      "Imputing row 1301/8366 with 0 missing, elapsed time: 239.037\n",
      "Imputing row 1401/8366 with 7 missing, elapsed time: 239.098\n",
      "Imputing row 1501/8366 with 11 missing, elapsed time: 239.178\n",
      "Imputing row 1601/8366 with 5 missing, elapsed time: 239.247\n",
      "Imputing row 1701/8366 with 3 missing, elapsed time: 239.345\n",
      "Imputing row 1801/8366 with 0 missing, elapsed time: 239.392\n",
      "Imputing row 1901/8366 with 84 missing, elapsed time: 239.594\n",
      "Imputing row 2001/8366 with 1 missing, elapsed time: 239.692\n",
      "Imputing row 2101/8366 with 6 missing, elapsed time: 239.927\n",
      "Imputing row 2201/8366 with 0 missing, elapsed time: 240.077\n",
      "Imputing row 2301/8366 with 8 missing, elapsed time: 240.116\n",
      "Imputing row 2401/8366 with 98 missing, elapsed time: 240.283\n",
      "Imputing row 2501/8366 with 6 missing, elapsed time: 240.537\n",
      "Imputing row 2601/8366 with 1 missing, elapsed time: 240.623\n",
      "Imputing row 2701/8366 with 45 missing, elapsed time: 240.814\n",
      "Imputing row 2801/8366 with 6 missing, elapsed time: 240.913\n",
      "Imputing row 2901/8366 with 1 missing, elapsed time: 241.024\n",
      "Imputing row 3001/8366 with 4 missing, elapsed time: 241.453\n",
      "Imputing row 3101/8366 with 32 missing, elapsed time: 241.583\n",
      "Imputing row 3201/8366 with 4 missing, elapsed time: 241.719\n",
      "Imputing row 3301/8366 with 31 missing, elapsed time: 241.876\n",
      "Imputing row 3401/8366 with 0 missing, elapsed time: 242.003\n",
      "Imputing row 3501/8366 with 14 missing, elapsed time: 242.053\n",
      "Imputing row 3601/8366 with 9 missing, elapsed time: 242.144\n",
      "Imputing row 3701/8366 with 6 missing, elapsed time: 242.236\n",
      "Imputing row 3801/8366 with 10 missing, elapsed time: 242.319\n",
      "Imputing row 3901/8366 with 55 missing, elapsed time: 242.546\n",
      "Imputing row 4001/8366 with 83 missing, elapsed time: 242.704\n",
      "Imputing row 4101/8366 with 6 missing, elapsed time: 242.925\n",
      "Imputing row 4201/8366 with 11 missing, elapsed time: 243.214\n",
      "Imputing row 4301/8366 with 6 missing, elapsed time: 243.514\n",
      "Imputing row 4401/8366 with 7 missing, elapsed time: 243.693\n",
      "Imputing row 4501/8366 with 9 missing, elapsed time: 244.058\n",
      "Imputing row 4601/8366 with 13 missing, elapsed time: 244.415\n",
      "Imputing row 4701/8366 with 4 missing, elapsed time: 244.474\n",
      "Imputing row 4801/8366 with 1 missing, elapsed time: 244.631\n",
      "Imputing row 4901/8366 with 10 missing, elapsed time: 244.691\n",
      "Imputing row 5001/8366 with 0 missing, elapsed time: 244.740\n",
      "Imputing row 5101/8366 with 30 missing, elapsed time: 245.163\n",
      "Imputing row 5201/8366 with 73 missing, elapsed time: 245.544\n",
      "Imputing row 5301/8366 with 0 missing, elapsed time: 245.648\n",
      "Imputing row 5401/8366 with 4 missing, elapsed time: 245.849\n",
      "Imputing row 5501/8366 with 19 missing, elapsed time: 245.940\n",
      "Imputing row 5601/8366 with 12 missing, elapsed time: 246.044\n",
      "Imputing row 5701/8366 with 6 missing, elapsed time: 246.127\n",
      "Imputing row 5801/8366 with 0 missing, elapsed time: 246.191\n",
      "Imputing row 5901/8366 with 4 missing, elapsed time: 246.245\n",
      "Imputing row 6001/8366 with 0 missing, elapsed time: 246.315\n",
      "Imputing row 6101/8366 with 6 missing, elapsed time: 246.426\n",
      "Imputing row 6201/8366 with 55 missing, elapsed time: 246.728\n",
      "Imputing row 6301/8366 with 87 missing, elapsed time: 246.945\n",
      "Imputing row 6401/8366 with 50 missing, elapsed time: 247.174\n",
      "Imputing row 6501/8366 with 11 missing, elapsed time: 247.406\n",
      "Imputing row 6601/8366 with 26 missing, elapsed time: 247.492\n",
      "Imputing row 6701/8366 with 4 missing, elapsed time: 247.870\n",
      "Imputing row 6801/8366 with 5 missing, elapsed time: 248.171\n",
      "Imputing row 6901/8366 with 1 missing, elapsed time: 248.396\n",
      "Imputing row 7001/8366 with 8 missing, elapsed time: 248.460\n",
      "Imputing row 7101/8366 with 52 missing, elapsed time: 248.629\n",
      "Imputing row 7201/8366 with 24 missing, elapsed time: 248.806\n",
      "Imputing row 7301/8366 with 6 missing, elapsed time: 248.933\n",
      "Imputing row 7401/8366 with 0 missing, elapsed time: 249.055\n",
      "Imputing row 7501/8366 with 72 missing, elapsed time: 249.289\n",
      "Imputing row 7601/8366 with 7 missing, elapsed time: 249.419\n",
      "Imputing row 7701/8366 with 4 missing, elapsed time: 249.471\n",
      "Imputing row 7801/8366 with 38 missing, elapsed time: 249.704\n",
      "Imputing row 7901/8366 with 10 missing, elapsed time: 249.814\n",
      "Imputing row 8001/8366 with 1 missing, elapsed time: 249.908\n",
      "Imputing row 8101/8366 with 19 missing, elapsed time: 250.150\n",
      "Imputing row 8201/8366 with 6 missing, elapsed time: 250.271\n",
      "Imputing row 8301/8366 with 0 missing, elapsed time: 250.433\n"
     ]
    }
   ],
   "source": [
    "from fancyimpute import KNN\n",
    "df_numeric = df_droped.select_dtypes(include=[np.float]).as_matrix()\n",
    "df_filled = pd.DataFrame(KNN(3).complete(df_numeric))"
   ]
  },
  {
   "cell_type": "code",
   "execution_count": 57,
   "metadata": {},
   "outputs": [],
   "source": [
    "df_filled.columns = df_droped.select_dtypes(include=[np.float]).columns\n",
    "df_filled.index = df_droped.select_dtypes(include=[np.float]).index"
   ]
  },
  {
   "cell_type": "code",
   "execution_count": 58,
   "metadata": {},
   "outputs": [
    {
     "data": {
      "text/html": [
       "<div>\n",
       "<style>\n",
       "    .dataframe thead tr:only-child th {\n",
       "        text-align: right;\n",
       "    }\n",
       "\n",
       "    .dataframe thead th {\n",
       "        text-align: left;\n",
       "    }\n",
       "\n",
       "    .dataframe tbody tr th {\n",
       "        vertical-align: top;\n",
       "    }\n",
       "</style>\n",
       "<table border=\"1\" class=\"dataframe\">\n",
       "  <thead>\n",
       "    <tr style=\"text-align: right;\">\n",
       "      <th></th>\n",
       "      <th>Adolescent fertility rate (births per 1,000 women ages 15-19)_x</th>\n",
       "      <th>Age dependency ratio (% of working-age population)_x</th>\n",
       "      <th>Age dependency ratio, old</th>\n",
       "      <th>Age dependency ratio, young</th>\n",
       "      <th>Age population, age 0, female, interpolated</th>\n",
       "      <th>Age population, age 0, male, interpolated</th>\n",
       "      <th>Age population, age 01, female, interpolated</th>\n",
       "      <th>Age population, age 01, male, interpolated</th>\n",
       "      <th>Age population, age 02, female, interpolated</th>\n",
       "      <th>Age population, age 02, male, interpolated</th>\n",
       "      <th>...</th>\n",
       "      <th>Population, female (% of total)</th>\n",
       "      <th>Population, male</th>\n",
       "      <th>Population, male (% of total)</th>\n",
       "      <th>Population, total</th>\n",
       "      <th>School life expectancy, primary, both sexes (years)</th>\n",
       "      <th>Theoretical duration of lower secondary education (years)</th>\n",
       "      <th>Theoretical duration of pre-primary education (years)</th>\n",
       "      <th>Theoretical duration of primary education (years)</th>\n",
       "      <th>Theoretical duration of secondary education (years)</th>\n",
       "      <th>Theoretical duration of upper secondary education (years)</th>\n",
       "    </tr>\n",
       "  </thead>\n",
       "  <tbody>\n",
       "    <tr>\n",
       "      <th>48</th>\n",
       "      <td>35.7928</td>\n",
       "      <td>85.539909</td>\n",
       "      <td>9.635485</td>\n",
       "      <td>75.904424</td>\n",
       "      <td>29656.0</td>\n",
       "      <td>31431.0</td>\n",
       "      <td>30212.0</td>\n",
       "      <td>31966.0</td>\n",
       "      <td>30563.0</td>\n",
       "      <td>32288.0</td>\n",
       "      <td>...</td>\n",
       "      <td>48.511554</td>\n",
       "      <td>1099525.0</td>\n",
       "      <td>51.488446</td>\n",
       "      <td>2135479.0</td>\n",
       "      <td>6.367695</td>\n",
       "      <td>4.0</td>\n",
       "      <td>3.0</td>\n",
       "      <td>4.0</td>\n",
       "      <td>8.0</td>\n",
       "      <td>4.0</td>\n",
       "    </tr>\n",
       "    <tr>\n",
       "      <th>49</th>\n",
       "      <td>32.6304</td>\n",
       "      <td>84.238462</td>\n",
       "      <td>9.546354</td>\n",
       "      <td>74.692108</td>\n",
       "      <td>30088.0</td>\n",
       "      <td>31904.0</td>\n",
       "      <td>29782.0</td>\n",
       "      <td>31547.0</td>\n",
       "      <td>30201.0</td>\n",
       "      <td>31942.0</td>\n",
       "      <td>...</td>\n",
       "      <td>48.518853</td>\n",
       "      <td>1126332.0</td>\n",
       "      <td>51.481147</td>\n",
       "      <td>2187853.0</td>\n",
       "      <td>6.371221</td>\n",
       "      <td>4.0</td>\n",
       "      <td>3.0</td>\n",
       "      <td>4.0</td>\n",
       "      <td>8.0</td>\n",
       "      <td>4.0</td>\n",
       "    </tr>\n",
       "    <tr>\n",
       "      <th>50</th>\n",
       "      <td>29.4680</td>\n",
       "      <td>83.005810</td>\n",
       "      <td>9.476444</td>\n",
       "      <td>73.529366</td>\n",
       "      <td>30856.0</td>\n",
       "      <td>32716.0</td>\n",
       "      <td>30836.0</td>\n",
       "      <td>32647.0</td>\n",
       "      <td>29872.0</td>\n",
       "      <td>31622.0</td>\n",
       "      <td>...</td>\n",
       "      <td>48.529161</td>\n",
       "      <td>1154556.0</td>\n",
       "      <td>51.470839</td>\n",
       "      <td>2243126.0</td>\n",
       "      <td>5.819299</td>\n",
       "      <td>4.0</td>\n",
       "      <td>3.0</td>\n",
       "      <td>4.0</td>\n",
       "      <td>8.0</td>\n",
       "      <td>4.0</td>\n",
       "    </tr>\n",
       "    <tr>\n",
       "      <th>51</th>\n",
       "      <td>28.6554</td>\n",
       "      <td>81.723609</td>\n",
       "      <td>9.416309</td>\n",
       "      <td>72.307300</td>\n",
       "      <td>31784.0</td>\n",
       "      <td>33692.0</td>\n",
       "      <td>31315.0</td>\n",
       "      <td>33158.0</td>\n",
       "      <td>30949.0</td>\n",
       "      <td>32737.0</td>\n",
       "      <td>...</td>\n",
       "      <td>48.540956</td>\n",
       "      <td>1181887.0</td>\n",
       "      <td>51.459044</td>\n",
       "      <td>2296752.0</td>\n",
       "      <td>5.543507</td>\n",
       "      <td>4.0</td>\n",
       "      <td>3.0</td>\n",
       "      <td>4.0</td>\n",
       "      <td>8.0</td>\n",
       "      <td>4.0</td>\n",
       "    </tr>\n",
       "    <tr>\n",
       "      <th>52</th>\n",
       "      <td>27.8428</td>\n",
       "      <td>80.235628</td>\n",
       "      <td>9.351285</td>\n",
       "      <td>70.884343</td>\n",
       "      <td>32610.0</td>\n",
       "      <td>34577.0</td>\n",
       "      <td>31769.0</td>\n",
       "      <td>33656.0</td>\n",
       "      <td>31130.0</td>\n",
       "      <td>32950.0</td>\n",
       "      <td>...</td>\n",
       "      <td>48.551223</td>\n",
       "      <td>1209110.0</td>\n",
       "      <td>51.448777</td>\n",
       "      <td>2350124.0</td>\n",
       "      <td>4.989682</td>\n",
       "      <td>4.0</td>\n",
       "      <td>3.0</td>\n",
       "      <td>4.0</td>\n",
       "      <td>8.0</td>\n",
       "      <td>4.0</td>\n",
       "    </tr>\n",
       "  </tbody>\n",
       "</table>\n",
       "<p>5 rows × 405 columns</p>\n",
       "</div>"
      ],
      "text/plain": [
       "    Adolescent fertility rate (births per 1,000 women ages 15-19)_x  \\\n",
       "48                                            35.7928                 \n",
       "49                                            32.6304                 \n",
       "50                                            29.4680                 \n",
       "51                                            28.6554                 \n",
       "52                                            27.8428                 \n",
       "\n",
       "    Age dependency ratio (% of working-age population)_x  \\\n",
       "48                                          85.539909      \n",
       "49                                          84.238462      \n",
       "50                                          83.005810      \n",
       "51                                          81.723609      \n",
       "52                                          80.235628      \n",
       "\n",
       "    Age dependency ratio, old  Age dependency ratio, young  \\\n",
       "48                   9.635485                    75.904424   \n",
       "49                   9.546354                    74.692108   \n",
       "50                   9.476444                    73.529366   \n",
       "51                   9.416309                    72.307300   \n",
       "52                   9.351285                    70.884343   \n",
       "\n",
       "    Age population, age 0, female, interpolated  \\\n",
       "48                                      29656.0   \n",
       "49                                      30088.0   \n",
       "50                                      30856.0   \n",
       "51                                      31784.0   \n",
       "52                                      32610.0   \n",
       "\n",
       "    Age population, age 0, male, interpolated  \\\n",
       "48                                    31431.0   \n",
       "49                                    31904.0   \n",
       "50                                    32716.0   \n",
       "51                                    33692.0   \n",
       "52                                    34577.0   \n",
       "\n",
       "    Age population, age 01, female, interpolated  \\\n",
       "48                                       30212.0   \n",
       "49                                       29782.0   \n",
       "50                                       30836.0   \n",
       "51                                       31315.0   \n",
       "52                                       31769.0   \n",
       "\n",
       "    Age population, age 01, male, interpolated  \\\n",
       "48                                     31966.0   \n",
       "49                                     31547.0   \n",
       "50                                     32647.0   \n",
       "51                                     33158.0   \n",
       "52                                     33656.0   \n",
       "\n",
       "    Age population, age 02, female, interpolated  \\\n",
       "48                                       30563.0   \n",
       "49                                       30201.0   \n",
       "50                                       29872.0   \n",
       "51                                       30949.0   \n",
       "52                                       31130.0   \n",
       "\n",
       "    Age population, age 02, male, interpolated  \\\n",
       "48                                     32288.0   \n",
       "49                                     31942.0   \n",
       "50                                     31622.0   \n",
       "51                                     32737.0   \n",
       "52                                     32950.0   \n",
       "\n",
       "                              ...                              \\\n",
       "48                            ...                               \n",
       "49                            ...                               \n",
       "50                            ...                               \n",
       "51                            ...                               \n",
       "52                            ...                               \n",
       "\n",
       "    Population, female (% of total)  Population, male  \\\n",
       "48                        48.511554         1099525.0   \n",
       "49                        48.518853         1126332.0   \n",
       "50                        48.529161         1154556.0   \n",
       "51                        48.540956         1181887.0   \n",
       "52                        48.551223         1209110.0   \n",
       "\n",
       "    Population, male (% of total)  Population, total  \\\n",
       "48                      51.488446          2135479.0   \n",
       "49                      51.481147          2187853.0   \n",
       "50                      51.470839          2243126.0   \n",
       "51                      51.459044          2296752.0   \n",
       "52                      51.448777          2350124.0   \n",
       "\n",
       "    School life expectancy, primary, both sexes (years)  \\\n",
       "48                                           6.367695     \n",
       "49                                           6.371221     \n",
       "50                                           5.819299     \n",
       "51                                           5.543507     \n",
       "52                                           4.989682     \n",
       "\n",
       "    Theoretical duration of lower secondary education (years)  \\\n",
       "48                                                4.0           \n",
       "49                                                4.0           \n",
       "50                                                4.0           \n",
       "51                                                4.0           \n",
       "52                                                4.0           \n",
       "\n",
       "    Theoretical duration of pre-primary education (years)  \\\n",
       "48                                                3.0       \n",
       "49                                                3.0       \n",
       "50                                                3.0       \n",
       "51                                                3.0       \n",
       "52                                                3.0       \n",
       "\n",
       "    Theoretical duration of primary education (years)  \\\n",
       "48                                                4.0   \n",
       "49                                                4.0   \n",
       "50                                                4.0   \n",
       "51                                                4.0   \n",
       "52                                                4.0   \n",
       "\n",
       "    Theoretical duration of secondary education (years)  \\\n",
       "48                                                8.0     \n",
       "49                                                8.0     \n",
       "50                                                8.0     \n",
       "51                                                8.0     \n",
       "52                                                8.0     \n",
       "\n",
       "    Theoretical duration of upper secondary education (years)  \n",
       "48                                                4.0          \n",
       "49                                                4.0          \n",
       "50                                                4.0          \n",
       "51                                                4.0          \n",
       "52                                                4.0          \n",
       "\n",
       "[5 rows x 405 columns]"
      ]
     },
     "execution_count": 58,
     "metadata": {},
     "output_type": "execute_result"
    }
   ],
   "source": [
    "df_filled.head()"
   ]
  },
  {
   "cell_type": "code",
   "execution_count": 69,
   "metadata": {},
   "outputs": [
    {
     "data": {
      "text/plain": [
       "(8366, 407)"
      ]
     },
     "execution_count": 69,
     "metadata": {},
     "output_type": "execute_result"
    }
   ],
   "source": [
    "df_filled_ind=df_ind.join(df_filled)\n",
    "df_filled_ind.shape"
   ]
  },
  {
   "cell_type": "code",
   "execution_count": 82,
   "metadata": {},
   "outputs": [
    {
     "data": {
      "text/plain": [
       "407"
      ]
     },
     "execution_count": 82,
     "metadata": {},
     "output_type": "execute_result"
    }
   ],
   "source": [
    "col_cnt = df_filled_ind.count()\n",
    "len(col_cnt[col_cnt>8365])"
   ]
  },
  {
   "cell_type": "code",
   "execution_count": 72,
   "metadata": {},
   "outputs": [
    {
     "data": {
      "text/plain": [
       "150"
      ]
     },
     "execution_count": 72,
     "metadata": {},
     "output_type": "execute_result"
    }
   ],
   "source": [
    "col_cnt = df_droped.count()\n",
    "len(col_cnt[col_cnt>8365])"
   ]
  },
  {
   "cell_type": "code",
   "execution_count": 79,
   "metadata": {},
   "outputs": [
    {
     "data": {
      "text/plain": [
       "1356"
      ]
     },
     "execution_count": 79,
     "metadata": {},
     "output_type": "execute_result"
    }
   ],
   "source": [
    "row_cnt=df_droped.count(axis=1)\n",
    "len(row_cnt[row_cnt>404])\n"
   ]
  },
  {
   "cell_type": "code",
   "execution_count": 81,
   "metadata": {},
   "outputs": [
    {
     "data": {
      "text/plain": [
       "8366"
      ]
     },
     "execution_count": 81,
     "metadata": {},
     "output_type": "execute_result"
    }
   ],
   "source": [
    "row_cnt=df_filled_ind.count(axis=1)\n",
    "len(row_cnt[row_cnt>406])"
   ]
  },
  {
   "cell_type": "code",
   "execution_count": 84,
   "metadata": {},
   "outputs": [
    {
     "data": {
      "text/plain": [
       "Index(['Adolescent fertility rate (births per 1,000 women ages 15-19)_x',\n",
       "       'Age dependency ratio (% of working-age population)_x',\n",
       "       'Age dependency ratio, old', 'Age dependency ratio, young',\n",
       "       'Age population, age 0, female, interpolated',\n",
       "       'Age population, age 0, male, interpolated',\n",
       "       'Age population, age 01, female, interpolated',\n",
       "       'Age population, age 01, male, interpolated',\n",
       "       'Age population, age 02, female, interpolated',\n",
       "       'Age population, age 02, male, interpolated',\n",
       "       ...\n",
       "       'Population, female (% of total)', 'Population, male',\n",
       "       'Population, male (% of total)', 'Population, total',\n",
       "       'School life expectancy, primary, both sexes (years)',\n",
       "       'Theoretical duration of lower secondary education (years)',\n",
       "       'Theoretical duration of pre-primary education (years)',\n",
       "       'Theoretical duration of primary education (years)',\n",
       "       'Theoretical duration of secondary education (years)',\n",
       "       'Theoretical duration of upper secondary education (years)'],\n",
       "      dtype='object', length=405)"
      ]
     },
     "execution_count": 84,
     "metadata": {},
     "output_type": "execute_result"
    }
   ],
   "source": [
    "df_filled.columns"
   ]
  },
  {
   "cell_type": "code",
   "execution_count": 85,
   "metadata": {},
   "outputs": [
    {
     "name": "stdout",
     "output_type": "stream",
     "text": [
      "Index(['Adolescent fertility rate (births per 1,000 women ages 15-19)_x',\n",
      "       'Age dependency ratio (% of working-age population)_x',\n",
      "       'Age dependency ratio, old', 'Age dependency ratio, young',\n",
      "       'Age population, age 0, female, interpolated',\n",
      "       'Age population, age 0, male, interpolated',\n",
      "       'Age population, age 01, female, interpolated',\n",
      "       'Age population, age 01, male, interpolated',\n",
      "       'Age population, age 02, female, interpolated',\n",
      "       'Age population, age 02, male, interpolated',\n",
      "       ...\n",
      "       'Population, female (% of total)', 'Population, male',\n",
      "       'Population, male (% of total)', 'Population, total',\n",
      "       'School life expectancy, primary, both sexes (years)',\n",
      "       'Theoretical duration of lower secondary education (years)',\n",
      "       'Theoretical duration of pre-primary education (years)',\n",
      "       'Theoretical duration of primary education (years)',\n",
      "       'Theoretical duration of secondary education (years)',\n",
      "       'Theoretical duration of upper secondary education (years)'],\n",
      "      dtype='object', length=405)\n"
     ]
    }
   ],
   "source": [
    "print(df_filled.columns)"
   ]
  },
  {
   "cell_type": "code",
   "execution_count": null,
   "metadata": {
    "collapsed": true
   },
   "outputs": [],
   "source": []
  }
 ],
 "metadata": {
  "kernelspec": {
   "display_name": "Python 3",
   "language": "python",
   "name": "python3"
  },
  "language_info": {
   "codemirror_mode": {
    "name": "ipython",
    "version": 3
   },
   "file_extension": ".py",
   "mimetype": "text/x-python",
   "name": "python",
   "nbconvert_exporter": "python",
   "pygments_lexer": "ipython3",
   "version": "3.6.4"
  }
 },
 "nbformat": 4,
 "nbformat_minor": 2
}
